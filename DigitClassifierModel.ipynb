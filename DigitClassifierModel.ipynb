{
  "nbformat": 4,
  "nbformat_minor": 0,
  "metadata": {
    "colab": {
      "provenance": [],
      "gpuType": "T4",
      "authorship_tag": "ABX9TyN3uj29ASItqzNCs3pSzFNv",
      "include_colab_link": true
    },
    "kernelspec": {
      "name": "python3",
      "display_name": "Python 3"
    },
    "language_info": {
      "name": "python"
    },
    "accelerator": "GPU"
  },
  "cells": [
    {
      "cell_type": "markdown",
      "metadata": {
        "id": "view-in-github",
        "colab_type": "text"
      },
      "source": [
        "<a href=\"https://colab.research.google.com/github/Shaheer04/DigitClassifier/blob/main/DigitClassifierModel.ipynb\" target=\"_parent\"><img src=\"https://colab.research.google.com/assets/colab-badge.svg\" alt=\"Open In Colab\"/></a>"
      ]
    },
    {
      "cell_type": "code",
      "execution_count": 1,
      "metadata": {
        "id": "DrtW1QF6f-ql"
      },
      "outputs": [],
      "source": [
        "import torch\n",
        "import torch.nn as nn\n",
        "import torch.optim as optim\n",
        "import torchvision\n",
        "import torchvision.transforms as transforms\n",
        "from torch.utils.data import DataLoader"
      ]
    },
    {
      "cell_type": "code",
      "source": [
        "torch.manual_seed(42)"
      ],
      "metadata": {
        "colab": {
          "base_uri": "https://localhost:8080/"
        },
        "id": "l8SjJ970gFdG",
        "outputId": "a8b1a710-e8c6-4b46-d208-851ec1583a02"
      },
      "execution_count": 2,
      "outputs": [
        {
          "output_type": "execute_result",
          "data": {
            "text/plain": [
              "<torch._C.Generator at 0x7b24a96c9ef0>"
            ]
          },
          "metadata": {},
          "execution_count": 2
        }
      ]
    },
    {
      "cell_type": "code",
      "source": [
        "# Define transformations\n",
        "transform = transforms.Compose([\n",
        "    transforms.ToTensor(),\n",
        "    transforms.Normalize((0.1307,), (0.3081,))  # MNIST mean and std\n",
        "])"
      ],
      "metadata": {
        "id": "KBKzZcCpgFaZ"
      },
      "execution_count": 3,
      "outputs": []
    },
    {
      "cell_type": "code",
      "source": [
        "train_dataset = torchvision.datasets.MNIST(root='./data',\n",
        "                                          train=True,\n",
        "                                          download=True,\n",
        "                                          transform=transform)\n",
        "\n",
        "test_dataset = torchvision.datasets.MNIST(root='./data',\n",
        "                                         train=False,\n",
        "                                         download=True,\n",
        "                                         transform=transform)"
      ],
      "metadata": {
        "colab": {
          "base_uri": "https://localhost:8080/"
        },
        "id": "r-V8nTZ_gFXD",
        "outputId": "86a6206c-8c38-4889-cddb-76a67af4c7fb"
      },
      "execution_count": 4,
      "outputs": [
        {
          "output_type": "stream",
          "name": "stderr",
          "text": [
            "100%|██████████| 9.91M/9.91M [00:01<00:00, 5.47MB/s]\n",
            "100%|██████████| 28.9k/28.9k [00:00<00:00, 161kB/s]\n",
            "100%|██████████| 1.65M/1.65M [00:01<00:00, 1.52MB/s]\n",
            "100%|██████████| 4.54k/4.54k [00:00<00:00, 6.77MB/s]\n"
          ]
        }
      ]
    },
    {
      "cell_type": "code",
      "source": [
        "# Create data loaders\n",
        "train_loader = DataLoader(train_dataset, batch_size=64, shuffle=True)\n",
        "test_loader = DataLoader(test_dataset, batch_size=1000, shuffle=False)"
      ],
      "metadata": {
        "id": "PlnMjKy2gFRu"
      },
      "execution_count": 5,
      "outputs": []
    },
    {
      "cell_type": "code",
      "source": [
        "# Define model\n",
        "class Model(nn.Module):\n",
        "    def __init__(self):\n",
        "        super(Model, self).__init__()\n",
        "        # First convolutional layer\n",
        "        self.conv1 = nn.Conv2d(1, 32, kernel_size=3, stride=1, padding=1)\n",
        "        self.relu1 = nn.ReLU()\n",
        "        self.pool1 = nn.MaxPool2d(kernel_size=2)\n",
        "\n",
        "        # Second convolutional layer\n",
        "        self.conv2 = nn.Conv2d(32, 64, kernel_size=3, stride=1, padding=1)\n",
        "        self.relu2 = nn.ReLU()\n",
        "        self.pool2 = nn.MaxPool2d(kernel_size=2)\n",
        "\n",
        "        # Fully connected layers\n",
        "        self.fc1 = nn.Linear(64 * 7 * 7, 128)\n",
        "        self.relu3 = nn.ReLU()\n",
        "        self.dropout = nn.Dropout(0.5)\n",
        "        self.fc2 = nn.Linear(128, 10)\n",
        "\n",
        "    def forward(self, x):\n",
        "        # Layer 1\n",
        "        x = self.conv1(x)\n",
        "        x = self.relu1(x)\n",
        "        x = self.pool1(x)\n",
        "\n",
        "        # Layer 2\n",
        "        x = self.conv2(x)\n",
        "        x = self.relu2(x)\n",
        "        x = self.pool2(x)\n",
        "\n",
        "        # Flatten\n",
        "        x = x.view(-1, 64 * 7 * 7)\n",
        "\n",
        "        # Fully connected layers\n",
        "        x = self.fc1(x)\n",
        "        x = self.relu3(x)\n",
        "        x = self.dropout(x)\n",
        "        x = self.fc2(x)\n",
        "\n",
        "        return x"
      ],
      "metadata": {
        "id": "zUNK7OPmgFPd"
      },
      "execution_count": 6,
      "outputs": []
    },
    {
      "cell_type": "code",
      "source": [
        "# Initialize model, loss function, and optimizer\n",
        "model = Model()\n",
        "criterion = nn.CrossEntropyLoss()\n",
        "optimizer = optim.Adam(model.parameters(), lr=0.001)"
      ],
      "metadata": {
        "id": "HBfPP54mgFNs"
      },
      "execution_count": 7,
      "outputs": []
    },
    {
      "cell_type": "code",
      "source": [
        "num_epochs = 5\n",
        "model.train()\n",
        "for epoch in range(num_epochs):\n",
        "    running_loss = 0.0\n",
        "    correct = 0\n",
        "    total = 0\n",
        "\n",
        "    for i, (images, labels) in enumerate(train_loader):\n",
        "        # Forward pass\n",
        "        outputs = model(images)\n",
        "        loss = criterion(outputs, labels)\n",
        "\n",
        "        # Backward and optimize\n",
        "        optimizer.zero_grad()\n",
        "        loss.backward()\n",
        "        optimizer.step()\n",
        "\n",
        "        # Track statistics\n",
        "        running_loss += loss.item()\n",
        "        _, predicted = torch.max(outputs.data, 1)\n",
        "        total += labels.size(0)\n",
        "        correct += (predicted == labels).sum().item()\n",
        "\n",
        "        if (i + 1) % 100 == 0:\n",
        "            print(f'Epoch [{epoch+1}/{num_epochs}], Step [{i+1}/{len(train_loader)}], '\n",
        "                  f'Loss: {running_loss/100:.4f}, '\n",
        "                  f'Accuracy: {100 * correct/total:.2f}%')\n",
        "            running_loss = 0.0\n",
        "\n",
        "    model.eval()\n",
        "    correct = 0\n",
        "    total = 0\n",
        "    with torch.no_grad():\n",
        "        for images, labels in test_loader:\n",
        "            outputs = model(images)\n",
        "            _, predicted = torch.max(outputs.data, 1)\n",
        "            total += labels.size(0)\n",
        "            correct += (predicted == labels).sum().item()\n",
        "\n",
        "    print(f'Test Accuracy: {100 * correct / total:.2f}%')"
      ],
      "metadata": {
        "colab": {
          "base_uri": "https://localhost:8080/"
        },
        "id": "_0CfiZFRgFKl",
        "outputId": "d60cca11-b9f8-4b52-bf43-e7b2bbd044b0"
      },
      "execution_count": 8,
      "outputs": [
        {
          "output_type": "stream",
          "name": "stdout",
          "text": [
            "Epoch [1/5], Step [100/938], Loss: 0.8082, Accuracy: 73.72%\n",
            "Epoch [1/5], Step [200/938], Loss: 0.2591, Accuracy: 82.74%\n",
            "Epoch [1/5], Step [300/938], Loss: 0.1747, Accuracy: 86.86%\n",
            "Epoch [1/5], Step [400/938], Loss: 0.1443, Accuracy: 89.06%\n",
            "Epoch [1/5], Step [500/938], Loss: 0.1468, Accuracy: 90.41%\n",
            "Epoch [1/5], Step [600/938], Loss: 0.1137, Accuracy: 91.44%\n",
            "Epoch [1/5], Step [700/938], Loss: 0.1141, Accuracy: 92.18%\n",
            "Epoch [1/5], Step [800/938], Loss: 0.1152, Accuracy: 92.77%\n",
            "Epoch [1/5], Step [900/938], Loss: 0.0914, Accuracy: 93.28%\n",
            "Test Accuracy: 98.29%\n",
            "Epoch [2/5], Step [100/938], Loss: 0.0430, Accuracy: 98.56%\n",
            "Epoch [2/5], Step [200/938], Loss: 0.0444, Accuracy: 98.59%\n",
            "Epoch [2/5], Step [300/938], Loss: 0.0437, Accuracy: 98.64%\n",
            "Epoch [2/5], Step [400/938], Loss: 0.0427, Accuracy: 98.66%\n",
            "Epoch [2/5], Step [500/938], Loss: 0.0399, Accuracy: 98.68%\n",
            "Epoch [2/5], Step [600/938], Loss: 0.0379, Accuracy: 98.72%\n",
            "Epoch [2/5], Step [700/938], Loss: 0.0339, Accuracy: 98.77%\n",
            "Epoch [2/5], Step [800/938], Loss: 0.0412, Accuracy: 98.77%\n",
            "Epoch [2/5], Step [900/938], Loss: 0.0340, Accuracy: 98.78%\n",
            "Test Accuracy: 98.80%\n",
            "Epoch [3/5], Step [100/938], Loss: 0.0264, Accuracy: 99.16%\n",
            "Epoch [3/5], Step [200/938], Loss: 0.0238, Accuracy: 99.25%\n",
            "Epoch [3/5], Step [300/938], Loss: 0.0245, Accuracy: 99.24%\n",
            "Epoch [3/5], Step [400/938], Loss: 0.0305, Accuracy: 99.15%\n",
            "Epoch [3/5], Step [500/938], Loss: 0.0298, Accuracy: 99.13%\n",
            "Epoch [3/5], Step [600/938], Loss: 0.0261, Accuracy: 99.15%\n",
            "Epoch [3/5], Step [700/938], Loss: 0.0311, Accuracy: 99.14%\n",
            "Epoch [3/5], Step [800/938], Loss: 0.0267, Accuracy: 99.13%\n",
            "Epoch [3/5], Step [900/938], Loss: 0.0216, Accuracy: 99.15%\n",
            "Test Accuracy: 98.75%\n",
            "Epoch [4/5], Step [100/938], Loss: 0.0205, Accuracy: 99.25%\n",
            "Epoch [4/5], Step [200/938], Loss: 0.0142, Accuracy: 99.38%\n",
            "Epoch [4/5], Step [300/938], Loss: 0.0189, Accuracy: 99.40%\n",
            "Epoch [4/5], Step [400/938], Loss: 0.0279, Accuracy: 99.32%\n",
            "Epoch [4/5], Step [500/938], Loss: 0.0232, Accuracy: 99.29%\n",
            "Epoch [4/5], Step [600/938], Loss: 0.0227, Accuracy: 99.30%\n",
            "Epoch [4/5], Step [700/938], Loss: 0.0242, Accuracy: 99.28%\n",
            "Epoch [4/5], Step [800/938], Loss: 0.0178, Accuracy: 99.31%\n",
            "Epoch [4/5], Step [900/938], Loss: 0.0174, Accuracy: 99.33%\n",
            "Test Accuracy: 99.03%\n",
            "Epoch [5/5], Step [100/938], Loss: 0.0115, Accuracy: 99.62%\n",
            "Epoch [5/5], Step [200/938], Loss: 0.0114, Accuracy: 99.62%\n",
            "Epoch [5/5], Step [300/938], Loss: 0.0221, Accuracy: 99.52%\n",
            "Epoch [5/5], Step [400/938], Loss: 0.0165, Accuracy: 99.50%\n",
            "Epoch [5/5], Step [500/938], Loss: 0.0121, Accuracy: 99.53%\n",
            "Epoch [5/5], Step [600/938], Loss: 0.0133, Accuracy: 99.51%\n",
            "Epoch [5/5], Step [700/938], Loss: 0.0104, Accuracy: 99.54%\n",
            "Epoch [5/5], Step [800/938], Loss: 0.0233, Accuracy: 99.50%\n",
            "Epoch [5/5], Step [900/938], Loss: 0.0198, Accuracy: 99.48%\n",
            "Test Accuracy: 98.95%\n"
          ]
        }
      ]
    },
    {
      "cell_type": "code",
      "source": [
        "import matplotlib.pyplot as plt\n",
        "\n",
        "def predict_and_plot(model, test_loader, num_images=5):\n",
        "    \"\"\"\n",
        "    Predicts and visualizes model results on sample images from the test set\n",
        "    \"\"\"\n",
        "    model.eval()\n",
        "\n",
        "    # Get a batch of test images\n",
        "    dataiter = iter(test_loader)\n",
        "    images, labels = next(dataiter)\n",
        "\n",
        "    # Make predictions\n",
        "    with torch.no_grad():\n",
        "        outputs = model(images[:num_images])\n",
        "        _, predicted = torch.max(outputs, 1)\n",
        "\n",
        "    # Plot the images and predictions\n",
        "    fig = plt.figure(figsize=(12, 4))\n",
        "    for i in range(num_images):\n",
        "        # Plot\n",
        "        ax = fig.add_subplot(1, num_images, i+1)\n",
        "\n",
        "        # Convert image tensor to numpy and reshape\n",
        "        img = images[i].numpy().squeeze()\n",
        "\n",
        "        # Plot image\n",
        "        ax.imshow(img, cmap='gray')\n",
        "\n",
        "        # Set title with prediction and true label\n",
        "        pred_label = predicted[i].item()\n",
        "        true_label = labels[i].item()\n",
        "        ax.set_title(f'Pred: {pred_label}\\nTrue: {true_label}',\n",
        "                    color=('green' if pred_label == true_label else 'red'))\n",
        "\n",
        "        # Remove ticks\n",
        "        ax.set_xticks([])\n",
        "        ax.set_yticks([])\n",
        "\n",
        "    plt.tight_layout()\n",
        "    plt.show()\n",
        "\n",
        "    return predicted, labels[:num_images]"
      ],
      "metadata": {
        "id": "RkznSuMQjsru"
      },
      "execution_count": 9,
      "outputs": []
    },
    {
      "cell_type": "code",
      "source": [
        "predict_and_plot(model, test_loader, num_images=4)"
      ],
      "metadata": {
        "colab": {
          "base_uri": "https://localhost:8080/",
          "height": 378
        },
        "id": "WnmvZJ_Bjsn5",
        "outputId": "964293f0-d5ae-4a1a-cc75-3b5b9dfb2920"
      },
      "execution_count": 10,
      "outputs": [
        {
          "output_type": "display_data",
          "data": {
            "text/plain": [
              "<Figure size 1200x400 with 4 Axes>"
            ],
            "image/png": "[encoded data removed]"
          },
          "metadata": {}
        },
        {
          "output_type": "execute_result",
          "data": {
            "text/plain": [
              "(tensor([7, 2, 1, 0]), tensor([7, 2, 1, 0]))"
            ]
          },
          "metadata": {},
          "execution_count": 10
        }
      ]
    },
    {
      "cell_type": "code",
      "source": [
        "torch.save(model, 'mnist_cnn.pth')\n",
        "print(\"Model saved to mnist_cnn.pth\")"
      ],
      "metadata": {
        "colab": {
          "base_uri": "https://localhost:8080/"
        },
        "id": "lR1KLUtVqxOc",
        "outputId": "008bd028-e538-48a9-c400-e5893204c353"
      },
      "execution_count": 11,
      "outputs": [
        {
          "output_type": "stream",
          "name": "stdout",
          "text": [
            "Model saved to mnist_cnn.pth\n"
          ]
        }
      ]
    },
    {
      "cell_type": "code",
      "source": [],
      "metadata": {
        "id": "cvNqe7OYtyBM"
      },
      "execution_count": 11,
      "outputs": []
    }
  ]
}